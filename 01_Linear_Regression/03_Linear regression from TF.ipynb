{
 "cells": [
  {
   "cell_type": "code",
   "execution_count": 1,
   "metadata": {
    "collapsed": false
   },
   "outputs": [
    {
     "name": "stdout",
     "output_type": "stream",
     "text": [
      "Package Loaded\n"
     ]
    }
   ],
   "source": [
    "import numpy as np\n",
    "import tensorflow as tf\n",
    "import matplotlib.pyplot as plt\n",
    "%matplotlib inline\n",
    "print(\"Package Loaded\")"
   ]
  },
  {
   "cell_type": "code",
   "execution_count": 2,
   "metadata": {
    "collapsed": false
   },
   "outputs": [
    {
     "name": "stdout",
     "output_type": "stream",
     "text": [
      "\n",
      "Type of 'train_X' is <type 'numpy.ndarray'>\n",
      "Shape of 'train_X' is (1, 20)\n",
      "(\"Type of 'train_Y' is \", <type 'numpy.ndarray'>)\n",
      "(\"Shape of 'train_Y' is\", (1, 20))\n"
     ]
    },
    {
     "data": {
      "text/plain": [
       "<matplotlib.legend.Legend at 0x7f1ad9603710>"
      ]
     },
     "execution_count": 2,
     "metadata": {},
     "output_type": "execute_result"
    },
    {
     "data": {
      "image/png": "[encoded data removed]",
      "text/plain": [
       "<matplotlib.figure.Figure at 0x7f1b204a6c10>"
      ]
     },
     "metadata": {},
     "output_type": "display_data"
    }
   ],
   "source": [
    "np.random.seed(1)\n",
    "def f(x, a, b):\n",
    "    n = train_X.size\n",
    "    vals = np.zeros((1, n))\n",
    "    for i in range(0, n):\n",
    "        ax = np.multiply(a, x.item(i))\n",
    "        val = np.add(ax, b)\n",
    "        vals[0, i] = val\n",
    "    return vals\n",
    "\n",
    "Wref = 0.7\n",
    "bref = -1.\n",
    "n = 20\n",
    "noise_var = 0.001\n",
    "train_X = np.random.random((1, n))\n",
    "ref_Y = f(train_X, Wref, bref)\n",
    "train_Y = ref_Y + np.sqrt(noise_var)*np.random.randn(1, n)\n",
    "n_samples = train_X.size\n",
    "\n",
    "print \"\"\n",
    "print \"Type of 'train_X' is %s\" % type(train_X)\n",
    "print \"Shape of 'train_X' is\", train_X.shape\n",
    "print (\"Type of 'train_Y' is \", type(train_Y))\n",
    "print (\"Shape of 'train_Y' is\", train_Y.shape)\n",
    "\n",
    "plt.figure(1)\n",
    "plt.plot(train_X[0, :], ref_Y[0, :], 'ro', label='Original data')\n",
    "plt.plot(train_X[0, :], train_Y[0, :], 'bo', label='Training data')\n",
    "plt.axis('equal')\n",
    "plt.legend(loc='lower right')"
   ]
  },
  {
   "cell_type": "code",
   "execution_count": 3,
   "metadata": {
    "collapsed": false
   },
   "outputs": [],
   "source": [
    "temp_X = np.insert(train_X, 0, 1, axis=0)\n",
    "temp_Y = train_Y\n",
    "\n",
    "def h(X, w):\n",
    "    return tf.matmul(w, X)\n",
    "\n",
    "def costF(X, Y, w):\n",
    "    return tf.matmul((h(X, w) - Y), tf.transpose(h(X, w) - Y)) / (2*n_samples)\n",
    "\n",
    "X = tf.placeholder(tf.float64, name=\"input\")\n",
    "Y = tf.placeholder(tf.float64, name=\"output\")\n",
    "W = tf.cast(tf.Variable(tf.random_normal([1, 2]), \"weight\"), tf.float64)\n",
    "\n",
    "#cost = tf.matmul(tf.transpose(h(X, W) - Y), (h(X, W) - Y)) / (2*n_samples)\n",
    "\n",
    "learning_rate = 0.01\n",
    "optimizer = tf.train.GradientDescentOptimizer(learning_rate)#.minimize(cost)\n",
    "#optimizer.minimize(costF(X, Y, W))\n",
    "train = optimizer.minimize(costF(X, Y, W))\n",
    "\n",
    "init = tf.initialize_all_variables()"
   ]
  },
  {
   "cell_type": "code",
   "execution_count": 4,
   "metadata": {
    "collapsed": false
   },
   "outputs": [
    {
     "name": "stdout",
     "output_type": "stream",
     "text": [
      "0 [[ 3.23753961]] [[ 1.27151823  1.41753995]]\n",
      "1000 [[ 0.00047251]] [[-0.9694351   0.61197323]]\n",
      "2000 [[ 0.00035014]] [[-0.98195297  0.64424044]]\n",
      "3000 [[ 0.00030628]] [[-0.98943305  0.66356188]]\n",
      "4000 [[ 0.00029057]] [[-0.99391085  0.67512786]]\n",
      "5000 [[ 0.00028494]] [[-0.99659109  0.68205136]]\n",
      "6000 [[ 0.00028292]] [[-0.99819547  0.68619561]]\n",
      "7000 [[ 0.0002822]] [[-0.99915522  0.68867576]]\n",
      "8000 [[ 0.00028194]] [[-0.99972957  0.69015944]]\n",
      "9000 [[ 0.00028184]] [[-1.00007021  0.69104648]]\n",
      "10000 [[ 0.00028181]] [[-1.0002768  0.6915766]]\n",
      "11000 [[ 0.0002818]] [[-1.00040197  0.69188726]]\n",
      "12000 [[ 0.00028179]] [[-1.00047719  0.69208974]]\n",
      "13000 [[ 0.00028179]] [[-1.00051749  0.69219929]]\n",
      "14000 [[ 0.00028179]] [[-1.00053942  0.69225889]]\n",
      "15000 [[ 0.00028179]] [[-1.00055122  0.6922912 ]]\n",
      "16000 [[ 0.00028179]] [[-1.00055122  0.6922912 ]]\n",
      "17000 [[ 0.00028179]] [[-1.00055122  0.6922912 ]]\n",
      "18000 [[ 0.00028179]] [[-1.00055122  0.6922912 ]]\n",
      "19000 [[ 0.00028179]] [[-1.00055122  0.6922912 ]]\n",
      "20000 [[ 0.00028179]] [[-1.00055122  0.6922912 ]]\n"
     ]
    }
   ],
   "source": [
    "sess = tf.Session()\n",
    "\n",
    "sess.run(init)\n",
    "# print sess.run(costF(X, Y, W), feed_dict={X:temp_X, Y:temp_Y})\n",
    "for step in range(20001):\n",
    "    feed = {X:temp_X, Y:temp_Y}\n",
    "    sess.run(train, feed)\n",
    "    # sess.run(train, feed_dict={X:temp_X, Y:temp_Y})\n",
    "    if step % 1000 == 0:\n",
    "        print step, sess.run(costF(X, Y, W), feed), sess.run(W)"
   ]
  },
  {
   "cell_type": "code",
   "execution_count": 14,
   "metadata": {
    "collapsed": false
   },
   "outputs": [
    {
     "data": {
      "text/plain": [
       "<matplotlib.legend.Legend at 0x7f1a780ba110>"
      ]
     },
     "execution_count": 14,
     "metadata": {},
     "output_type": "execute_result"
    },
    {
     "data": {
      "image/png": "[encoded data removed]",
      "text/plain": [
       "<matplotlib.figure.Figure at 0x7f1a780ba090>"
      ]
     },
     "metadata": {},
     "output_type": "display_data"
    }
   ],
   "source": [
    "plt.figure(1)\n",
    "plt.plot(train_X[0, :], ref_Y[0, :], 'ro', label='Original data')\n",
    "plt.plot(train_X[0, :], train_Y[0, :], 'bo', label='Training data')\n",
    "plt.plot(train_X[0, :], sess.run(h(X, W), feed_dict = {X:temp_X})[0, :], 'k', label='Fitting Line')\n",
    "plt.axis('equal')\n",
    "plt.legend(loc='lower right')"
   ]
  },
  {
   "cell_type": "code",
   "execution_count": null,
   "metadata": {
    "collapsed": true
   },
   "outputs": [],
   "source": []
  }
 ],
 "metadata": {
  "kernelspec": {
   "display_name": "Python 2",
   "language": "python",
   "name": "python2"
  },
  "language_info": {
   "codemirror_mode": {
    "name": "ipython",
    "version": 2
   },
   "file_extension": ".py",
   "mimetype": "text/x-python",
   "name": "python",
   "nbconvert_exporter": "python",
   "pygments_lexer": "ipython2",
   "version": "2.7.6"
  }
 },
 "nbformat": 4,
 "nbformat_minor": 1
}
