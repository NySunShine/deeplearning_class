{
 "cells": [
  {
   "cell_type": "code",
   "execution_count": 1,
   "metadata": {
    "collapsed": false
   },
   "outputs": [
    {
     "name": "stdout",
     "output_type": "stream",
     "text": [
      "Package Loaded\n"
     ]
    }
   ],
   "source": [
    "import numpy as np\n",
    "import tensorflow as tf\n",
    "import matplotlib.pyplot as plt\n",
    "%matplotlib inline\n",
    "print(\"Package Loaded\")"
   ]
  },
  {
   "cell_type": "code",
   "execution_count": 2,
   "metadata": {
    "collapsed": false
   },
   "outputs": [
    {
     "name": "stdout",
     "output_type": "stream",
     "text": [
      "\n",
      "Type of 'train_X' is <type 'numpy.ndarray'>\n",
      "Shape of 'train_X' is (2, 20)\n",
      "(\"Type of 'train_Y' is \", <type 'numpy.ndarray'>)\n",
      "(\"Shape of 'train_Y' is\", (1, 20))\n"
     ]
    }
   ],
   "source": [
    "np.random.seed(1)\n",
    "def f(x, a, b):\n",
    "    return np.dot(a, x) + b\n",
    "\n",
    "Wref = np.array([0.7, -1.2])\n",
    "bref = -1.\n",
    "n = 20\n",
    "noise_var = 0.001\n",
    "train_X = np.random.random((2, n))\n",
    "ref_Y = f(train_X, Wref, bref)\n",
    "train_Y = ref_Y + np.sqrt(noise_var)*np.random.randn(1, n)\n",
    "n_samples = train_X.size\n",
    "\n",
    "print \"\"\n",
    "print \"Type of 'train_X' is %s\" % type(train_X)\n",
    "print \"Shape of 'train_X' is\", train_X.shape\n",
    "print (\"Type of 'train_Y' is \", type(train_Y))\n",
    "print (\"Shape of 'train_Y' is\", train_Y.shape)"
   ]
  },
  {
   "cell_type": "code",
   "execution_count": 3,
   "metadata": {
    "collapsed": true
   },
   "outputs": [],
   "source": [
    "temp_X = np.insert(train_X, 0, 1, axis=0)\n",
    "temp_Y = train_Y\n",
    "\n",
    "def h(X, w):\n",
    "    return tf.matmul(w, X)\n",
    "\n",
    "def costF(X, Y, w):\n",
    "    return tf.matmul((h(X, w) - Y), tf.transpose(h(X, w) - Y)) / (2*n_samples)\n",
    "\n",
    "X = tf.placeholder(tf.float64, name=\"input\")\n",
    "Y = tf.placeholder(tf.float64, name=\"output\")\n",
    "W = tf.cast(tf.Variable(tf.random_normal([1, 3]), \"weight\"), tf.float64)\n",
    "\n",
    "#cost = tf.matmul(tf.transpose(h(X, W) - Y), (h(X, W) - Y)) / (2*n_samples)\n",
    "\n",
    "learning_rate = 0.01\n",
    "optimizer = tf.train.GradientDescentOptimizer(learning_rate)#.minimize(cost)\n",
    "#optimizer.minimize(costF(X, Y, W))\n",
    "train = optimizer.minimize(costF(X, Y, W))\n",
    "\n",
    "init = tf.initialize_all_variables()"
   ]
  },
  {
   "cell_type": "code",
   "execution_count": 4,
   "metadata": {
    "collapsed": false
   },
   "outputs": [
    {
     "name": "stdout",
     "output_type": "stream",
     "text": [
      "0 [[ 4.30959296]] [[ 2.24604559 -0.5518958   1.12923598]]\n",
      "1000 [[ 0.04738236]] [[-0.57323033 -1.06024647 -0.78198689]]\n",
      "2000 [[ 0.02675309]] [[-0.63661188 -0.64436871 -0.94833463]]\n",
      "3000 [[ 0.01538681]] [[-0.6963464  -0.33012873 -1.05087626]]\n",
      "4000 [[ 0.00899372]] [[-0.75050092 -0.09215491 -1.11357307]]\n",
      "5000 [[ 0.00533677]] [[-0.79764479  0.08867534 -1.1511631 ]]\n",
      "6000 [[ 0.00321678]] [[-0.83758932  0.22649682 -1.17308199]]\n",
      "7000 [[ 0.00197507]] [[-0.8707934   0.33181465 -1.18533647]]\n",
      "8000 [[ 0.00124208]] [[-0.89800936  0.41247919 -1.19173026]]\n",
      "9000 [[ 0.00080688]] [[-0.92008168  0.47438413 -1.19464815]]\n",
      "10000 [[ 0.00054738]] [[-0.93783635  0.52197433 -1.19557142]]\n",
      "11000 [[ 0.00039217]] [[-0.95202649  0.55861282 -1.1954087 ]]\n",
      "12000 [[ 0.00029913]] [[-0.96331048  0.58685619 -1.19470346]]\n",
      "13000 [[ 0.00024326]] [[-0.97224844  0.60865074 -1.19377375]]\n",
      "14000 [[ 0.00020967]] [[-0.97929436  0.62548876 -1.19282007]]\n",
      "15000 [[ 0.00018947]] [[-0.98484135  0.63850433 -1.19191992]]\n",
      "16000 [[ 0.0001773]] [[-0.98919547  0.64857292 -1.19111204]]\n",
      "17000 [[ 0.00016998]] [[-0.99260807  0.65636569 -1.19041419]]\n",
      "18000 [[ 0.00016557]] [[-0.9952783   0.66240007 -1.18982279]]\n",
      "19000 [[ 0.00016291]] [[-0.99736172  0.66707587 -1.18934441]]\n",
      "20000 [[ 0.0001613]] [[-0.99898964  0.67069906 -1.18895721]]\n"
     ]
    }
   ],
   "source": [
    "sess = tf.Session()\n",
    "\n",
    "sess.run(init)\n",
    "# print sess.run(costF(X, Y, W), feed_dict={X:temp_X, Y:temp_Y})\n",
    "for step in range(20001):\n",
    "    feed = {X:temp_X, Y:temp_Y}\n",
    "    sess.run(train, feed)\n",
    "    # sess.run(train, feed_dict={X:temp_X, Y:temp_Y})\n",
    "    if step % 1000 == 0:\n",
    "        print step, sess.run(costF(X, Y, W), feed), sess.run(W)"
   ]
  },
  {
   "cell_type": "code",
   "execution_count": null,
   "metadata": {
    "collapsed": true
   },
   "outputs": [],
   "source": []
  }
 ],
 "metadata": {
  "kernelspec": {
   "display_name": "Python 2",
   "language": "python",
   "name": "python2"
  },
  "language_info": {
   "codemirror_mode": {
    "name": "ipython",
    "version": 2
   },
   "file_extension": ".py",
   "mimetype": "text/x-python",
   "name": "python",
   "nbconvert_exporter": "python",
   "pygments_lexer": "ipython2",
   "version": "2.7.6"
  }
 },
 "nbformat": 4,
 "nbformat_minor": 1
}
