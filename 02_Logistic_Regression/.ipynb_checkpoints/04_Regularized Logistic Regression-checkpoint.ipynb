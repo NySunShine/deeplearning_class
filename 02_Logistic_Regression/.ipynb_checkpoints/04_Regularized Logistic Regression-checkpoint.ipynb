{
 "cells": [
  {
   "cell_type": "code",
   "execution_count": 1,
   "metadata": {
    "collapsed": false
   },
   "outputs": [
    {
     "name": "stdout",
     "output_type": "stream",
     "text": [
      "Package Loaded\n"
     ]
    }
   ],
   "source": [
    "import numpy as np\n",
    "import matplotlib.pyplot as plt\n",
    "import tensorflow as tf\n",
    "%matplotlib inline\n",
    "print(\"Package Loaded\")"
   ]
  },
  {
   "cell_type": "code",
   "execution_count": 2,
   "metadata": {
    "collapsed": false
   },
   "outputs": [
    {
     "name": "stdout",
     "output_type": "stream",
     "text": [
      "\n",
      "Type of 'train_X' is <type 'numpy.ndarray'>\n",
      "Shape of 'train_X' is (2, 100)\n",
      "(\"Type of 'train_Y' is \", <type 'numpy.ndarray'>)\n",
      "(\"Shape of 'train_Y' is\", (100,))\n",
      "(\"n_samples' is\", 100)\n"
     ]
    }
   ],
   "source": [
    "xy = np.loadtxt(\"data1.txt\", delimiter=',', unpack=True, dtype='float64')\n",
    "train_X = xy[0:-1]\n",
    "train_Y = xy[-1]\n",
    "\n",
    "n_samples = train_X[0].size\n",
    "\n",
    "print \"\"\n",
    "print \"Type of 'train_X' is %s\" % type(train_X)\n",
    "print \"Shape of 'train_X' is\", train_X.shape\n",
    "print (\"Type of 'train_Y' is \", type(train_Y))\n",
    "print (\"Shape of 'train_Y' is\", train_Y.shape)\n",
    "print (\"n_samples' is\", n_samples)"
   ]
  },
  {
   "cell_type": "code",
   "execution_count": 3,
   "metadata": {
    "collapsed": false
   },
   "outputs": [
    {
     "data": {
      "text/plain": [
       "<matplotlib.legend.Legend at 0x7fcded432cd0>"
      ]
     },
     "execution_count": 3,
     "metadata": {},
     "output_type": "execute_result"
    },
    {
     "data": {
      "image/png": "[encoded data removed]",
      "text/plain": [
       "<matplotlib.figure.Figure at 0x7fcded48bc10>"
      ]
     },
     "metadata": {},
     "output_type": "display_data"
    }
   ],
   "source": [
    "pos = train_Y == 1\n",
    "neg = train_Y == 0\n",
    "\n",
    "plt.figure(1)\n",
    "plt.plot(train_X[0][pos], train_X[1][pos], 'r+', label='Admitted')\n",
    "plt.plot(train_X[0][neg], train_X[1][neg], 'bx', label='Not admitted')\n",
    "plt.axis('equal')\n",
    "plt.legend(loc='lower right')"
   ]
  },
  {
   "cell_type": "code",
   "execution_count": 19,
   "metadata": {
    "collapsed": false
   },
   "outputs": [],
   "source": [
    "temp_X = np.insert(train_X, 0, 1, axis=0)\n",
    "temp_Y = train_Y\n",
    "#W = np.random.random((1, 3))\n",
    "\n",
    "def h(X, w):\n",
    "    return tf.matmul(w, X)\n",
    "\n",
    "def hypothesis(X, w):\n",
    "    return tf.sigmoid(h(X, w))\n",
    "\n",
    "def costF(X, Y, w):\n",
    "    #return np.sum(-Y*np.log(hypothesis(X, w)) - (1-Y)*(np.log(1-hypothesis(X, w)))) / n_samples\n",
    "    #return -(np.dot(np.log(hypothesis(X, w)), Y.T) + np.dot(np.log(1 - hypothesis(X, w)), (1 - Y).T)) / n_samples\n",
    "    #return tf.reduce_mean(-Y*tf.log(hypothesis(X, w)) - (1-Y)*tf.log(1-hypothesis(X, w)))\n",
    "    return -(tf.matmul(tf.log(hypothesis(X, w)), tf.reshape(Y, [n_samples, 1])) + tf.matmul(tf.log(1-hypothesis(X, w)), tf.reshape(1-Y, [n_samples, 1]))) / n_samples\n",
    "    \n",
    "X = tf.placeholder(tf.float32, name=\"input\")\n",
    "Y = tf.placeholder(tf.float32, name=\"output\")\n",
    "W = tf.Variable(tf.zeros([1, 3]), \"weight\")\n",
    "\n",
    "learning_rate = 0.001\n",
    "optimizer = tf.train.GradientDescentOptimizer(learning_rate)\n",
    "train = optimizer.minimize(costF(X, Y, W))\n",
    "\n",
    "init = tf.initialize_all_variables()"
   ]
  },
  {
   "cell_type": "code",
   "execution_count": 20,
   "metadata": {
    "collapsed": false
   },
   "outputs": [
    {
     "name": "stdout",
     "output_type": "stream",
     "text": [
      "0 [[ 0.69829071]] [[  9.99999829e-05   1.20092155e-02   1.12628415e-02]]\n",
      "1000 [[ 0.62498087]] [[-0.0695302   0.01090781  0.0009919 ]]\n",
      "2000 [[ 0.62022889]] [[-0.13846195  0.01138673  0.00152795]]\n",
      "3000 [[ 0.61555803]] [[-0.20680164  0.01186208  0.00205967]]\n",
      "4000 [[ 0.61096716]] [[-0.27455422  0.01233389  0.00258711]]\n",
      "5000 [[ 0.60645467]] [[-0.34172469  0.0128022   0.00311025]]\n",
      "6000 [[ 0.60201949]] [[-0.40831831  0.01326701  0.00362916]]\n",
      "7000 [[ 0.59766006]] [[-0.47434044  0.01372836  0.00414385]]\n",
      "8000 [[ 0.59337509]] [[-0.53979683  0.01418629  0.00465435]]\n",
      "9000 [[ 0.58916336]] [[-0.60469097  0.01464081  0.00516068]]\n",
      "10000 [[ 0.58502346]] [[-0.66903025  0.01509195  0.00566287]]\n",
      "11000 [[ 0.5809539]] [[-0.73281962  0.01553974  0.00616097]]\n",
      "12000 [[ 0.57695353]] [[-0.7960642   0.01598423  0.006655  ]]\n",
      "13000 [[ 0.57302123]] [[-0.85876924  0.01642541  0.00714499]]\n",
      "14000 [[ 0.56915551]] [[-0.92094034  0.01686333  0.00763097]]\n",
      "15000 [[ 0.56535524]] [[-0.98258317  0.01729802  0.00811298]]\n",
      "16000 [[ 0.56161898]] [[-1.04370522  0.01772952  0.00859107]]\n",
      "17000 [[ 0.55794597]] [[-1.10430646  0.01815781  0.00906522]]\n",
      "18000 [[ 0.55433452]] [[-1.16439772  0.01858298  0.00953552]]\n",
      "19000 [[ 0.55078351]] [[-1.22398472  0.01900504  0.010002  ]]\n",
      "20000 [[ 0.54729187]] [[-1.28307223  0.01942402  0.01046469]]\n",
      "21000 [[ 0.54385865]] [[-1.34166312  0.01983994  0.0109236 ]]\n",
      "22000 [[ 0.54048252]] [[-1.3997637   0.02025282  0.01137878]]\n",
      "23000 [[ 0.53716242]] [[-1.45738113  0.02066271  0.01183027]]\n",
      "24000 [[ 0.53389704]] [[-1.51452076  0.02106964  0.01227811]]\n",
      "25000 [[ 0.53068554]] [[-1.57118821  0.02147363  0.01272235]]\n",
      "26000 [[ 0.52752674]] [[-1.62738895  0.02187472  0.01316301]]\n",
      "27000 [[ 0.52441984]] [[-1.68312478  0.02227291  0.0136001 ]]\n",
      "28000 [[ 0.52136362]] [[-1.73840415  0.02266824  0.0140337 ]]\n",
      "29000 [[ 0.51835692]] [[-1.79323351  0.02306077  0.01446382]]\n",
      "30000 [[ 0.51539886]] [[-1.84761941  0.02345053  0.01489054]]\n",
      "31000 [[ 0.51248872]] [[-1.90156257  0.0238375   0.01531383]]\n",
      "32000 [[ 0.50962526]] [[-1.95506918  0.02422174  0.01573377]]\n",
      "33000 [[ 0.50680745]] [[-2.00815201  0.0246033   0.01615044]]\n",
      "34000 [[ 0.50403494]] [[-2.06080055  0.02498213  0.01656374]]\n",
      "35000 [[ 0.50130618]] [[-2.11303663  0.02535835  0.01697386]]\n",
      "36000 [[ 0.49862]] [[-2.16486835  0.02573203  0.01738084]]\n",
      "37000 [[ 0.49597749]] [[-2.21626496  0.02610294  0.01778445]]\n",
      "38000 [[ 0.49337587]] [[-2.26726627  0.02647135  0.018185  ]]\n",
      "39000 [[ 0.49081406]] [[-2.31788325  0.02683732  0.01858256]]\n",
      "40000 [[ 0.4882932]] [[-2.36808419  0.02720064  0.01897688]]\n",
      "41000 [[ 0.48581097]] [[-2.41790199  0.02756151  0.01936823]]\n",
      "42000 [[ 0.48336616]] [[-2.46735072  0.02792004  0.01975672]]\n",
      "43000 [[ 0.4809604]] [[-2.51638961  0.02827593  0.020142  ]]\n",
      "44000 [[ 0.47858986]] [[-2.56507969  0.02862961  0.02052458]]\n",
      "45000 [[ 0.47625649]] [[-2.61337733  0.02898075  0.02090409]]\n",
      "46000 [[ 0.4739576]] [[-2.66132402  0.02932965  0.02128087]]\n",
      "47000 [[ 0.47169381]] [[-2.70889807  0.02967615  0.02165474]]\n",
      "48000 [[ 0.4694635]] [[-2.75612426  0.03002041  0.0220259 ]]\n",
      "49000 [[ 0.46726686]] [[-2.80298615  0.03036231  0.02239421]]\n",
      "50000 [[ 0.46510208]] [[-2.84951591  0.03070208  0.02275992]]\n",
      "51000 [[ 0.46297029]] [[-2.89567828  0.03103945  0.02312277]]\n",
      "52000 [[ 0.46086842]] [[-2.9415307   0.03137483  0.02348319]]\n",
      "53000 [[ 0.45879883]] [[-2.98701239  0.03170779  0.02384071]]\n",
      "54000 [[ 0.45675841]] [[-3.03218246  0.03203873  0.02419579]]\n",
      "55000 [[ 0.45474738]] [[-3.07702851  0.03236756  0.02454833]]\n",
      "56000 [[ 0.45276612]] [[-3.12153029  0.03269413  0.02489819]]\n",
      "57000 [[ 0.45081231]] [[-3.1657331   0.03301876  0.0252457 ]]\n",
      "58000 [[ 0.44888648]] [[-3.20961738  0.03334131  0.02559071]]\n",
      "59000 [[ 0.44698879]] [[-3.25317144  0.03366167  0.02593314]]\n",
      "60000 [[ 0.44511712]] [[-3.29643321  0.03398013  0.02627328]]\n",
      "61000 [[ 0.4432711]] [[-3.33940434  0.0342967   0.02661115]]\n",
      "62000 [[ 0.44145218]] [[-3.38204432  0.03461105  0.02694641]]\n",
      "63000 [[ 0.43965819]] [[-3.42439342  0.03492349  0.0272794 ]]\n",
      "64000 [[ 0.43788856]] [[-3.46645951  0.03523408  0.02761016]]\n",
      "65000 [[ 0.43614283]] [[-3.50824451  0.03554281  0.02793872]]\n",
      "66000 [[ 0.43442145]] [[-3.54973245  0.03584956  0.02826495]]\n",
      "67000 [[ 0.43272403]] [[-3.59092426  0.03615434  0.02858886]]\n",
      "68000 [[ 0.43104926]] [[-3.63184309  0.03645733  0.02891062]]\n",
      "69000 [[ 0.42939681]] [[-3.67249107  0.03675851  0.02923026]]\n",
      "70000 [[ 0.42776635]] [[-3.71287036  0.0370579   0.0295478 ]]\n",
      "71000 [[ 0.42615739]] [[-3.75298309  0.03735552  0.02986323]]\n",
      "72000 [[ 0.42456967]] [[-3.79283166  0.03765138  0.03017659]]\n",
      "73000 [[ 0.42300332]] [[-3.83240604  0.03794539  0.03048782]]\n",
      "74000 [[ 0.42145768]] [[-3.87171412  0.03823761  0.03079695]]\n",
      "75000 [[ 0.41993219]] [[-3.91076732  0.03852813  0.03110407]]\n",
      "76000 [[ 0.41842633]] [[-3.94956827  0.03881696  0.03140922]]\n",
      "77000 [[ 0.41693985]] [[-3.98811936  0.0391041   0.03171241]]\n",
      "78000 [[ 0.41547567]] [[-4.02634001  0.03938896  0.032013  ]]\n",
      "79000 [[ 0.41402358]] [[-4.06448698  0.03967345  0.03231302]]\n",
      "80000 [[ 0.41259655]] [[-4.10221577  0.03995499  0.03260975]]\n",
      "81000 [[ 0.41118079]] [[-4.1398859   0.04023626  0.03290602]]\n",
      "82000 [[ 0.40978965]] [[-4.17713499  0.04051455  0.033199  ]]\n",
      "83000 [[ 0.40840936]] [[-4.21432829  0.04079258  0.03349153]]\n",
      "84000 [[ 0.40705246]] [[-4.25112009  0.04106778  0.03378091]]\n",
      "85000 [[ 0.40570664]] [[-4.28783655  0.04134257  0.0340697 ]]\n",
      "86000 [[ 0.40438226]] [[-4.32419491  0.04161483  0.03435569]]\n",
      "87000 [[ 0.4030703]] [[-4.36043453  0.04188637  0.03464073]]\n",
      "88000 [[ 0.40177673]] [[-4.39638376  0.04215587  0.03492351]]\n",
      "89000 [[ 0.40049773]] [[-4.43214655  0.04242412  0.03520481]]\n",
      "90000 [[ 0.39923346]] [[-4.46771193  0.04269103  0.03548457]]\n",
      "91000 [[ 0.39798665]] [[-4.50299788  0.042956    0.03576213]]\n",
      "92000 [[ 0.39675003]] [[-4.5382061   0.04322051  0.0360391 ]]\n",
      "93000 [[ 0.39553469]] [[-4.57301521  0.04348215  0.03631293]]\n",
      "94000 [[ 0.39432657]] [[-4.60782433  0.04374394  0.03658676]]\n",
      "95000 [[ 0.3931396]] [[-4.64222622  0.0440028   0.03685739]]\n",
      "96000 [[ 0.39196196]] [[-4.67655849  0.04426126  0.03712748]]\n",
      "97000 [[ 0.39079902]] [[-4.71066046  0.04451812  0.03739577]]\n",
      "98000 [[ 0.38965112]] [[-4.7445159   0.04477324  0.03766212]]\n",
      "99000 [[ 0.3885107]] [[-4.77834797  0.04502831  0.03792831]]\n",
      "100000 [[ 0.38739201]] [[-4.81172657  0.04528009  0.03819091]]\n"
     ]
    }
   ],
   "source": [
    "sess = tf.Session()\n",
    "\n",
    "sess.run(init)\n",
    "#feed = {X:temp_X, Y:temp_Y}\n",
    "#temp = tf.reshape(Y, [n_samples, 1])\n",
    "#print sess.run(temp, feed)\n",
    "#print sess.run(W), sess.run(costF(X, Y, W), feed_dict={X:temp_X, Y:temp_Y})\n",
    "for step in xrange(100001):\n",
    "    feed = {X:temp_X, Y:temp_Y}\n",
    "    sess.run(train, feed)\n",
    "    if step % 1000 == 0:\n",
    "        print step, sess.run(costF(X, Y, W), feed), sess.run(W)"
   ]
  },
  {
   "cell_type": "code",
   "execution_count": 21,
   "metadata": {
    "collapsed": false
   },
   "outputs": [
    {
     "data": {
      "text/plain": [
       "<matplotlib.legend.Legend at 0x7fcbf82240d0>"
      ]
     },
     "execution_count": 21,
     "metadata": {},
     "output_type": "execute_result"
    },
    {
     "data": {
      "image/png": "[encoded data removed]",
      "text/plain": [
       "<matplotlib.figure.Figure at 0x7fcded3b5710>"
      ]
     },
     "metadata": {},
     "output_type": "display_data"
    }
   ],
   "source": [
    "x = np.array([np.min(temp_X[1,:]), np.max(temp_X[1,:])])\n",
    "y = (-1./sess.run(W[0,2])*(sess.run(W[0,0]) + sess.run(W[0,1])*x))\n",
    "\n",
    "plt.figure(1)\n",
    "plt.plot(train_X[0][pos], train_X[1][pos], 'r+', label='Admitted')\n",
    "plt.plot(train_X[0][neg], train_X[1][neg], 'bx', label='Not admitted')\n",
    "plt.plot(x, y, 'r-', label='Decision Boundary')\n",
    "plt.axis('equal')\n",
    "plt.legend(loc='lower right')"
   ]
  },
  {
   "cell_type": "code",
   "execution_count": null,
   "metadata": {
    "collapsed": true
   },
   "outputs": [],
   "source": []
  }
 ],
 "metadata": {
  "kernelspec": {
   "display_name": "Python 2",
   "language": "python",
   "name": "python2"
  },
  "language_info": {
   "codemirror_mode": {
    "name": "ipython",
    "version": 2
   },
   "file_extension": ".py",
   "mimetype": "text/x-python",
   "name": "python",
   "nbconvert_exporter": "python",
   "pygments_lexer": "ipython2",
   "version": "2.7.6"
  }
 },
 "nbformat": 4,
 "nbformat_minor": 1
}
